{
  "nbformat": 4,
  "nbformat_minor": 0,
  "metadata": {
    "colab": {
      "provenance": [],
      "authorship_tag": "ABX9TyPolt5ck+EhcP7HI+Bxv4M6",
      "include_colab_link": true
    },
    "kernelspec": {
      "name": "python3",
      "display_name": "Python 3"
    },
    "language_info": {
      "name": "python"
    }
  },
  "cells": [
    {
      "cell_type": "markdown",
      "metadata": {
        "id": "view-in-github",
        "colab_type": "text"
      },
      "source": [
        "<a href=\"https://colab.research.google.com/github/DaniaTheAnsari/L7/blob/main/TicTacToe.ipynb\" target=\"_parent\"><img src=\"https://colab.research.google.com/assets/colab-badge.svg\" alt=\"Open In Colab\"/></a>"
      ]
    },
    {
      "cell_type": "code",
      "execution_count": null,
      "metadata": {
        "colab": {
          "base_uri": "https://localhost:8080/"
        },
        "id": "lXvxzUC26y5c",
        "outputId": "28f64470-4f87-48ae-9c15-6ad8905d4a89"
      },
      "outputs": [
        {
          "output_type": "stream",
          "name": "stdout",
          "text": [
            "\n",
            "\n",
            "  |   |  \n",
            "--+---+--\n",
            "  |   |  \n",
            "--+---+--\n",
            "  |   |  \n",
            "\n",
            "\n",
            "Player X, enter your move (1-9): 6\\\n",
            "Invalid input. Enter a number between 1 and 9.\n",
            "\n",
            "\n",
            "  |   |  \n",
            "--+---+--\n",
            "  |   |  \n",
            "--+---+--\n",
            "  |   |  \n",
            "\n",
            "\n",
            "Player X, enter your move (1-9): 6\n",
            "\n",
            "\n",
            "  |   |  \n",
            "--+---+--\n",
            "  |   | X\n",
            "--+---+--\n",
            "  |   |  \n",
            "\n",
            "\n"
          ]
        }
      ],
      "source": [
        "class TicTacToeText:\n",
        "    def __init__(self):\n",
        "        self.board = [\" \"] * 9\n",
        "        self.current_player = \"X\"\n",
        "\n",
        "    def display_board(self):\n",
        "        print(\"\\n\")\n",
        "        print(f\"{self.board[0]} | {self.board[1]} | {self.board[2]}\")\n",
        "        print(\"--+---+--\")\n",
        "        print(f\"{self.board[3]} | {self.board[4]} | {self.board[5]}\")\n",
        "        print(\"--+---+--\")\n",
        "        print(f\"{self.board[6]} | {self.board[7]} | {self.board[8]}\")\n",
        "        print(\"\\n\")\n",
        "\n",
        "    def make_move(self, position):\n",
        "        if self.board[position] == \" \":\n",
        "            self.board[position] = self.current_player\n",
        "            return True\n",
        "        return False\n",
        "\n",
        "    def check_winner(self):\n",
        "        winning_combinations = [\n",
        "            (0, 1, 2), (3, 4, 5), (6, 7, 8),  # Horizontal\n",
        "            (0, 3, 6), (1, 4, 7), (2, 5, 8),  # Vertical\n",
        "            (0, 4, 8), (2, 4, 6)               # Diagonal\n",
        "        ]\n",
        "        for combo in winning_combinations:\n",
        "            if self.board[combo[0]] == self.board[combo[1]] == self.board[combo[2]] != \" \":\n",
        "                return True\n",
        "        return False\n",
        "\n",
        "    def play_game(self):\n",
        "        while \" \" in self.board:\n",
        "            self.display_board()\n",
        "            try:\n",
        "                position = int(input(f\"Player {self.current_player}, enter your move (1-9): \")) - 1\n",
        "                if position < 0 or position > 8 or not self.make_move(position):\n",
        "                    print(\"Invalid move. Try again.\")\n",
        "                    continue\n",
        "            except ValueError:\n",
        "                print(\"Invalid input. Enter a number between 1 and 9.\")\n",
        "                continue\n",
        "\n",
        "            if self.check_winner():\n",
        "                self.display_board()\n",
        "                print(f\"Player {self.current_player} wins!\")\n",
        "                return\n",
        "            self.current_player = \"O\" if self.current_player == \"X\" else \"X\"\n",
        "        self.display_board()\n",
        "        print(\"It's a draw!\")\n",
        "\n",
        "if __name__ == \"__main__\":\n",
        "    game = TicTacToeText()\n",
        "    game.play_game()\n"
      ]
    },
    {
      "cell_type": "code",
      "source": [],
      "metadata": {
        "id": "t22h9UoS6-g2"
      },
      "execution_count": null,
      "outputs": []
    }
  ]
}